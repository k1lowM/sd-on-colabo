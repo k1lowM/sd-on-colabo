{
  "cells": [
    {
      "cell_type": "markdown",
      "metadata": {
        "id": "view-in-github",
        "colab_type": "text"
      },
      "source": [
        "<a href=\"https://colab.research.google.com/github/k1lowM/sd-on-colabo/blob/main/ControlNet%2BAUTOMATIC1111.ipynb\" target=\"_parent\"><img src=\"https://colab.research.google.com/assets/colab-badge.svg\" alt=\"Open In Colab\"/></a>"
      ]
    },
    {
      "cell_type": "code",
      "execution_count": null,
      "metadata": {
        "id": "ZUE68zQBzVxv",
        "cellView": "form"
      },
      "outputs": [],
      "source": [
        "#@markdown # マシンスペックの確認\n",
        "\n",
        "# 日本時間出力\n",
        "import datetime \n",
        "from pytz import timezone\n",
        "now = datetime.datetime.now() #現在時刻生成\n",
        "now = now.astimezone(timezone('Asia/Tokyo')) #タイムゾーンを東京に\n",
        "print(now)\n",
        "\n",
        "# GPU情報\n",
        "!nvidia-smi"
      ]
    },
    {
      "cell_type": "code",
      "execution_count": null,
      "metadata": {
        "id": "f3bC4PFwn_KB",
        "cellView": "form"
      },
      "outputs": [],
      "source": [
        "#@markdown # 学習モデルと拡張機能のインストール\n",
        "\n",
        "#@markdown ### デフォルト以外の学習モデルのダウンロード\n",
        "LearnedModel = False #@param {type:\"boolean\"}\n",
        "\n",
        "#@markdown ### web UI拡張機能のインストール\n",
        "Dreambooth = False #@param {type:\"boolean\"}\n",
        "Controlnet = False #@param {type:\"boolean\"}\n",
        "\n",
        "# コンテンツルートに移動\n",
        "%cd /content\n",
        "\n",
        "# ipynbファイルをcolabで表示するためのURLを取得\n",
        "p_url = \"https://github.com/k1lowM/sd-on-colabo/blob/main/sd_install.ipynb\"\n",
        "aft_url = p_url.replace('https://github.com', 'https://colab.research.google.com/github');\n",
        "print(aft_url)\n",
        "\n",
        "# github管理されたpythonコードを実行\n",
        "!git clone https://github.com/k1lowM/sd-on-colabo.git\n",
        "%cd /content/sd-on-colabo\n",
        "!git pull\n",
        "\n",
        "# !python -m pdb -c continue /content/sd-on-colabo/sd_install.py -lm $LearnedModel -db $Dreambooth -cn $Controlnet!python -m pdb -c continue /content/sd-on-colabo/sd_install.py -lm $LearnedModel -db $Dreambooth -cn $Controlnet\n",
        "!python -d /content/sd-on-colabo/sd_install.py -lm $LearnedModel -db $Dreambooth -cn $Controlnet!python -m pdb -c continue /content/sd-on-colabo/sd_install.py -lm $LearnedModel -db $Dreambooth -cn $Controlnet"
      ]
    },
    {
      "cell_type": "code",
      "source": [
        "#@markdown # Stable Diffusion web UIの実行\n",
        "\n",
        "#@markdown ## ngrokの設定\n",
        "#@markdown - ngrokToken未入力ならngrokを使用しません\n",
        "ngrokToken = \"2Nxt6QScUNwn4wpWmJF4r688TDn_6wA1FXVVtMb18ceH1U96P \" #@param {type:\"string\"}\n",
        "\n",
        "#@markdown - ngrokのユーザとパスワードを使用する場合、以下に入力してください\n",
        "\n",
        "#@markdown （使用したほうがセキュリティ上安全です）\n",
        "user = \"k1low\" #@param {type:\"string\"}\n",
        "password = \"1111\" #@param {type:\"string\"}\n",
        "\n",
        "auth = f\"--gradio-auth {user}:{password}\"\n",
        "if user === \"\" or password === \"\" :\n",
        "  auth = \"\"\n",
        "\n",
        "if ngrokToken === \"\"\n",
        "  share = '--share'\n",
        "else\n",
        "  share = f'--ngrok {ngrokToken} --ngrok-region jp --gradio-debug {auth}'\n",
        "\n",
        "%cd /content/stable-diffusion-webui\n",
        "!python launch.py $share --xformers --enable-insecure-extension-access --ckpt {modelsDir}/sd-v1-4-full-ema.ckpt"
      ],
      "metadata": {
        "id": "IfsVlsiUbAZw",
        "cellView": "form"
      },
      "execution_count": null,
      "outputs": []
    },
    {
      "cell_type": "code",
      "execution_count": null,
      "metadata": {
        "id": "r_TLHlpRE27r",
        "colab": {
          "base_uri": "https://localhost:8080/"
        },
        "outputId": "6a83aa2a-f170-49d1-9210-e89494606fb9",
        "cellView": "form"
      },
      "outputs": [
        {
          "output_type": "stream",
          "name": "stdout",
          "text": [
            "Mounted at /content/drive\n"
          ]
        }
      ],
      "source": [
        "#@markdown # Googleドライブのマウント\n",
        "#@markdown (Googleドライブ使わないなら実行の必要なし)\n",
        "\n",
        "from google.colab import drive\n",
        "drive.mount('/content/drive')"
      ]
    }
  ],
  "metadata": {
    "colab": {
      "machine_shape": "hm",
      "provenance": [],
      "include_colab_link": true
    },
    "gpuClass": "premium",
    "kernelspec": {
      "display_name": "Python 3",
      "name": "python3"
    },
    "language_info": {
      "name": "python"
    }
  },
  "nbformat": 4,
  "nbformat_minor": 0
}