{
  "cells": [
    {
      "cell_type": "markdown",
      "metadata": {
        "id": "view-in-github",
        "colab_type": "text"
      },
      "source": [
        "<a href=\"https://colab.research.google.com/github/k1lowM/sd-on-colabo/blob/main/controlnet_automatic1111.ipynb\" target=\"_parent\"><img src=\"https://colab.research.google.com/assets/colab-badge.svg\" alt=\"Open In Colab\"/></a>"
      ]
    },
    {
      "cell_type": "code",
      "execution_count": null,
      "metadata": {
        "id": "xqDHOCQRvNCO"
      },
      "outputs": [],
      "source": [
        "# 念のためコンテンツルートに移動\n",
        "%cd /content\n",
        "\n",
        "# webuiをインストール\n",
        "!git clone https://github.com/AUTOMATIC1111/stable-diffusion-webui\n",
        "\n",
        "# sd-webui-controlnet のダウンロード\n",
        "!git clone https://github.com/Mikubill/sd-webui-controlnet /content/stable-diffusion-webui/extensions/sd-webui-controlnet\n",
        "\n",
        "# 作業ディレクトリを移動させておく\n",
        "%cd /content/stable-diffusion-webui\n",
        "\n",
        "# モデルダウンロード関数の定義\n",
        "!apt-get -y install -qq aria2 # aria2を使うと爆速で、モデルをダウンロードできる\n",
        "def download_model(download_model_url, output_dir):\n",
        "  # urlの最後がモデル名として、ファイル名を取得する\n",
        "  file_name_path = download_model_url.split('/')[-1]\n",
        "  # ダウンロードの実行\n",
        "  !aria2c --console-log-level=error -c -x 16 -s 16 -k 1M {download_model_url} -d {output_dir} -o {file_name_path}\n",
        "  # ダウンロード後の配置されたディレクトリを一応確認\n",
        "  !ls -lh {output_dir}\n",
        "\n",
        "modelsDir = \"/content/stable-diffusion-webui/models/Stable-diffusion\"\n",
        "\n",
        "# stable-diffsion v1.4 のモデルのダウンロード\n",
        "download_model(\"https://huggingface.co/CompVis/stable-diffusion-v-1-4-original/resolve/main/sd-v1-4-full-ema.ckpt\", modelsDir)\n",
        "\n",
        "# v1.4以外の学習済みモデルをダウンロード\n",
        "learnedModel = True    # True = controlnetが動く，False = controlnetが動かない\n",
        "\n",
        "if learnedModel:\n",
        "  # stable-diffsion v2.1 model(768×768)のダウンロード\n",
        "  #download_model(\"https://huggingface.co/stabilityai/stable-diffusion-2-1/resolve/main/v2-1_768-ema-pruned.ckpt\", modelsDir)\n",
        "  #!wget https://raw.githubusercontent.com/Stability-AI/stablediffusion/main/configs/stable-diffusion/v2-inference-v.yaml -O /content/stable-diffusion-webui/models/Stable-diffusion/v2-1_768-ema-pruned.yaml\n",
        "\n",
        "  # stable-diffsion v2.1 base model(512×512)のダウンロード\n",
        "  download_model(\"https://huggingface.co/stabilityai/stable-diffusion-2-1-base/resolve/main/v2-1_512-ema-pruned.ckpt\", modelsDir)\n",
        "  !wget \"https://raw.githubusercontent.com/Stability-AI/stablediffusion/main/configs/stable-diffusion/v2-inference.yaml\" -O {modelsDir}/v2-1_512-ema-pruned.yaml\"\n",
        "\n",
        "  # dreamlike-art\n",
        "  download_model(\"https://huggingface.co/dreamlike-art/dreamlike-photoreal-2.0/resolve/main/dreamlike-photoreal-2.0.safetensors\", modelsDir)\n",
        "\n",
        "  # basil_mix\n",
        "  download_model(\"https://huggingface.co/nuigurumi/basil_mix/resolve/main/Basil_mix_fixed.safetensors\", modelsDir)\n",
        "  download_model(\"https://huggingface.co/stabilityai/sd-vae-ft-mse-original/resolve/main/vae-ft-mse-840000-ema-pruned.safetensors\", \"/content/stable-diffusion-webui/models/VAE/\")\n",
        "\n",
        "  # Realism Engine 1.0\n",
        "  !aria2c --console-log-level=error -c -x 16 -s 16 -k 1M \"https://civitai.com/api/download/models/20414?type=Model&format=SafeTensor\" -d {modelsDir} -o \"realismEngine_v10.safetensors\"\n",
        "  !wget \"https://civitai.com/api/download/models/20414?type=Config&format=Other\" -O {modelsDir}/realismEngine_v10.yaml\n",
        "\n",
        "  # nfixer & nrealfixer for Illuminati Diffusion v1.1\n",
        "  !wget \"https://civitai.com/api/download/models/15921\" -O /content/stable-diffusion-webui/embeddings/nfixer.pt\n",
        "  !wget \"https://civitai.com/api/download/models/15927\" -O /content/stable-diffusion-webui/embeddings/nrealfixer.pt\n",
        "\n",
        "\n",
        "# sd-webui-controlnetモデルをダウンロード\n",
        "controlnet = True    # True = controlnetが動く，False = controlnetが動かない\n",
        "\n",
        "controlnetModelsDir = \"/content/stable-diffusion-webui/models/ControlNet\"\n",
        "if controlnet:\n",
        "  download_model(\"https://huggingface.co/lllyasviel/ControlNet/resolve/main/models/control_sd15_canny.pth\", controlnetModelsDir)\n",
        "  download_model(\"https://huggingface.co/lllyasviel/ControlNet/resolve/main/models/control_sd15_depth.pth\", controlnetModelsDir)\n",
        "  download_model(\"https://huggingface.co/lllyasviel/ControlNet/resolve/main/models/control_sd15_hed.pth\", controlnetModelsDir)\n",
        "  download_model(\"https://huggingface.co/lllyasviel/ControlNet/resolve/main/models/control_sd15_mlsd.pth\", controlnetModelsDir)\n",
        "  download_model(\"https://huggingface.co/lllyasviel/ControlNet/resolve/main/models/control_sd15_normal.pth\", controlnetModelsDir)\n",
        "  download_model(\"https://huggingface.co/lllyasviel/ControlNet/resolve/main/models/control_sd15_openpose.pth\", controlnetModelsDir)\n",
        "  download_model(\"https://huggingface.co/lllyasviel/ControlNet/resolve/main/models/control_sd15_scribble.pth\", controlnetModelsDir)\n",
        "  download_model(\"https://huggingface.co/lllyasviel/ControlNet/resolve/main/models/control_sd15_seg.pth\", controlnetModelsDir)\n",
        "\n",
        "# webuiを別URLで立ち上げる\n",
        "!python launch.py --share --xformers --enable-insecure-extension-access --ckpt {modelsDir}/sd-v1-4-full-ema.ckpt"
      ]
    },
    {
      "cell_type": "code",
      "source": [
        "# GoogleドライブをGoogle Colab にマウント\n",
        "# (Googleドライブ使わないなら実行の必要なし)\n",
        "\n",
        "# from google.colab import drive\n",
        "# drive.mount('/content/drive')"
      ],
      "metadata": {
        "id": "MD6R1o2jYN36"
      },
      "execution_count": null,
      "outputs": []
    }
  ],
  "metadata": {
    "accelerator": "GPU",
    "colab": {
      "machine_shape": "hm",
      "provenance": [],
      "include_colab_link": true
    },
    "gpuClass": "premium",
    "kernelspec": {
      "display_name": "Python 3",
      "name": "python3"
    },
    "language_info": {
      "name": "python"
    }
  },
  "nbformat": 4,
  "nbformat_minor": 0
}