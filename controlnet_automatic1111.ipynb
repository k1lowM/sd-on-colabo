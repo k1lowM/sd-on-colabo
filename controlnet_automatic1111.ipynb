{
  "cells": [
    {
      "cell_type": "markdown",
      "metadata": {
        "id": "view-in-github",
        "colab_type": "text"
      },
      "source": [
        "<a href=\"https://colab.research.google.com/github/k1lowM/sd-on-colabo/blob/main/controlnet_automatic1111.ipynb\" target=\"_parent\"><img src=\"https://colab.research.google.com/assets/colab-badge.svg\" alt=\"Open In Colab\"/></a>"
      ]
    },
    {
      "cell_type": "code",
      "execution_count": null,
      "metadata": {
        "id": "ZUE68zQBzVxv"
      },
      "outputs": [],
      "source": [
        "# 日本時間出力\n",
        "import datetime \n",
        "from pytz import timezone\n",
        "now = datetime.datetime.now() #現在時刻生成\n",
        "now = now.astimezone(timezone('Asia/Tokyo')) #タイムゾーンを東京に\n",
        "print(now)\n",
        "\n",
        "# GPU情報\n",
        "!nvidia-smi"
      ]
    },
    {
      "cell_type": "code",
      "execution_count": null,
      "metadata": {
        "id": "xqDHOCQRvNCO"
      },
      "outputs": [],
      "source": [
        "# 念のためコンテンツルートに移動\n",
        "%cd /content\n",
        "\n",
        "# webuiをインストール\n",
        "!git clone https://github.com/AUTOMATIC1111/stable-diffusion-webui\n",
        "\n",
        "# sd-webui-controlnet のダウンロード\n",
        "!git clone https://github.com/Mikubill/sd-webui-controlnet /content/stable-diffusion-webui/extensions/sd-webui-controlnet\n",
        "\n",
        "# 作業ディレクトリを移動させておく\n",
        "%cd /content/stable-diffusion-webui\n",
        "\n",
        "# モデルダウンロード関数の定義\n",
        "!apt-get -y install -qq aria2 # aria2を使うと爆速で、モデルをダウンロードできる\n",
        "def download_model(download_model_url, output_dir):\n",
        "  # urlの最後がモデル名として、ファイル名を取得する\n",
        "  file_name_path = download_model_url.split('/')[-1]\n",
        "  # ダウンロードの実行\n",
        "  !aria2c --console-log-level=error -c -x 16 -s 16 -k 1M {download_model_url} -d {output_dir} -o {file_name_path}\n",
        "  # ダウンロード後の配置されたディレクトリを一応確認\n",
        "  !ls -lh {output_dir}\n",
        "\n",
        "# stable-diffsion v1.4 のモデルのダウンロード\n",
        "download_model(\"https://huggingface.co/CompVis/stable-diffusion-v-1-4-original/resolve/main/sd-v1-4-full-ema.ckpt\", \"/content/stable-diffusion-webui/models/Stable-diffusion\")\n",
        "\n",
        "# stable-diffsion v2.1 model(768×768)のダウンロード\n",
        "#download_model(\"https://huggingface.co/stabilityai/stable-diffusion-2-1/resolve/main/v2-1_768-ema-pruned.ckpt\", \"/content/stable-diffusion-webui/models/Stable-diffusion\")\n",
        "#!wget https://raw.githubusercontent.com/Stability-AI/stablediffusion/main/configs/stable-diffusion/v2-inference-v.yaml -O /content/stable-diffusion-webui/models/Stable-diffusion/v2-1_768-ema-pruned.yaml\n",
        "\n",
        "# stable-diffsion v2.1 base model(512×512)のダウンロード\n",
        "#download_model(\"https://huggingface.co/stabilityai/stable-diffusion-2-1-base/resolve/main/v2-1_512-ema-pruned.ckpt\", \"/content/stable-diffusion-webui/models/Stable-diffusion\")\n",
        "#!wget https://raw.githubusercontent.com/Stability-AI/stablediffusion/main/configs/stable-diffusion/v2-inference.yaml -O /content/stable-diffusion-webui/models/Stable-diffusion/v2-1_512-ema-pruned.yaml\n",
        "\n",
        "\n",
        "# sd-webui-controlnetモデルをダウンロード\n",
        "\n",
        "## この変数がTrue = controlnetが動く，False = controlnetが動かない\n",
        "controlnet = False\n",
        "\n",
        "if controlnet:\n",
        "  download_model(\"https://huggingface.co/lllyasviel/ControlNet/resolve/main/models/control_sd15_canny.pth\", \"/content/stable-diffusion-webui/extensions/sd-webui-controlnet/models\")\n",
        "  download_model(\"https://huggingface.co/lllyasviel/ControlNet/resolve/main/models/control_sd15_depth.pth\", \"/content/stable-diffusion-webui/extensions/sd-webui-controlnet/models\")\n",
        "  download_model(\"https://huggingface.co/lllyasviel/ControlNet/resolve/main/models/control_sd15_hed.pth\", \"/content/stable-diffusion-webui/extensions/sd-webui-controlnet/models\")\n",
        "  download_model(\"https://huggingface.co/lllyasviel/ControlNet/resolve/main/models/control_sd15_mlsd.pth\", \"/content/stable-diffusion-webui/extensions/sd-webui-controlnet/models\")\n",
        "  download_model(\"https://huggingface.co/lllyasviel/ControlNet/resolve/main/models/control_sd15_normal.pth\", \"/content/stable-diffusion-webui/extensions/sd-webui-controlnet/models\")\n",
        "  download_model(\"https://huggingface.co/lllyasviel/ControlNet/resolve/main/models/control_sd15_openpose.pth\", \"/content/stable-diffusion-webui/extensions/sd-webui-controlnet/models\")\n",
        "  download_model(\"https://huggingface.co/lllyasviel/ControlNet/resolve/main/models/control_sd15_scribble.pth\", \"/content/stable-diffusion-webui/extensions/sd-webui-controlnet/models\")\n",
        "  download_model(\"https://huggingface.co/lllyasviel/ControlNet/resolve/main/models/control_sd15_seg.pth\", \"/content/stable-diffusion-webui/extensions/sd-webui-controlnet/models\")\n",
        "\n",
        "# webuiを別URLで立ち上げる(20分とか結構時間がかるかも??)\n",
        "!python launch.py --share --xformers --enable-insecure-extension-access"
      ]
    },
    {
      "cell_type": "code",
      "source": [
        "# GoogleドライブをGoogle Colab にマウント\n",
        "# (Googleドライブ使わないなら実行の必要なし)\n",
        "from google.colab import drive\n",
        "drive.mount('/content/drive')"
      ],
      "metadata": {
        "id": "MD6R1o2jYN36"
      },
      "execution_count": null,
      "outputs": []
    }
  ],
  "metadata": {
    "accelerator": "GPU",
    "colab": {
      "machine_shape": "hm",
      "provenance": [],
      "include_colab_link": true
    },
    "gpuClass": "premium",
    "kernelspec": {
      "display_name": "Python 3",
      "name": "python3"
    },
    "language_info": {
      "name": "python"
    }
  },
  "nbformat": 4,
  "nbformat_minor": 0
}